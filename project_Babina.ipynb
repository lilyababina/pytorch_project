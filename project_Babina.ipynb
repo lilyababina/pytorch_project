{
 "cells": [
  {
   "cell_type": "markdown",
   "metadata": {},
   "source": [
    "# Задание для Курсовой работы"
   ]
  },
  {
   "cell_type": "markdown",
   "metadata": {},
   "source": [
    "Нужно написать приложение, которое будет считывать и выводить кадры с веб-камеры. \n",
    "В процессе считывания определять что перед камерой находится человек, задетектировав его лицо на кадре. \n",
    "После этого, человек показывает жесты руками, а алгоритм должен считать их и определенным образом реагировать на эти жесты. \n",
    "На то, как система будет реагировать на определенные жесты - выбор за вами. \n",
    "Например, на определенный жест (жест пис), система будет здороваться с человеком. \n",
    "На другой, будет делать скриншот экрана. И т.д.\n",
    "Для распознавания жестов, вам надо будет скачать датасет для жестов рук. \n",
    "Возможные датасеты:\n",
    "\n",
    "https://www.kaggle.com/gti-upm/leapgestrecog\n",
    "\n",
    "https://lttm.dei.unipd.it/downloads/gesture/\n",
    "\n",
    "https://www.kaggle.com/datamunge/sign-language-mnist\n",
    "\n",
    "https://www.kaggle.com/roobansappani/hand-gesture-recognition \n",
    "\n",
    "На основании выбранного датасета нужно разработать модель для обучения и обучить эту модель.\n"
   ]
  },
  {
   "cell_type": "code",
   "execution_count": 1,
   "metadata": {},
   "outputs": [],
   "source": [
    "import os\n",
    "import torch\n",
    "import torchvision\n",
    "import torch.nn.functional as F\n",
    "from torchvision.datasets import ImageFolder\n",
    "from torch.utils.data import DataLoader\n",
    "import torchvision.transforms as tt\n",
    "from torchvision.utils import make_grid\n",
    "#%matplotlib inline\n",
    "import time\n",
    "from torch.autograd import Variable\n",
    "import seaborn\n",
    "import cv2\n",
    "import torch.nn as nn\n",
    "import torch.optim as optim\n",
    "import pandas as pd\n",
    "import matplotlib.pyplot as plt\n",
    "import seaborn as sns\n",
    "import numpy as np\n",
    "from facenet_pytorch import MTCNN\n",
    "from PIL import Image"
   ]
  },
  {
   "cell_type": "markdown",
   "metadata": {},
   "source": [
    "# 1. Обзор данных"
   ]
  },
  {
   "cell_type": "markdown",
   "metadata": {},
   "source": [
    "Для проекта используется датасет \n",
    "https://www.kaggle.com/datamunge/sign-language-mnist"
   ]
  },
  {
   "cell_type": "code",
   "execution_count": 2,
   "metadata": {},
   "outputs": [],
   "source": [
    "mnist_train = pd.read_csv(\"./sign-language-mnist/data/sign_mnist_train.csv\")\n",
    "mnist_test = pd.read_csv(\"./sign-language-mnist/data/sign_mnist_test.csv\")"
   ]
  },
  {
   "cell_type": "code",
   "execution_count": 3,
   "metadata": {},
   "outputs": [
    {
     "name": "stdout",
     "output_type": "stream",
     "text": [
      "(27455, 785) (7172, 785)\n"
     ]
    }
   ],
   "source": [
    "print(mnist_train.shape, mnist_test.shape)"
   ]
  },
  {
   "cell_type": "code",
   "execution_count": 4,
   "metadata": {},
   "outputs": [
    {
     "data": {
      "text/html": [
       "<div>\n",
       "<style scoped>\n",
       "    .dataframe tbody tr th:only-of-type {\n",
       "        vertical-align: middle;\n",
       "    }\n",
       "\n",
       "    .dataframe tbody tr th {\n",
       "        vertical-align: top;\n",
       "    }\n",
       "\n",
       "    .dataframe thead th {\n",
       "        text-align: right;\n",
       "    }\n",
       "</style>\n",
       "<table border=\"1\" class=\"dataframe\">\n",
       "  <thead>\n",
       "    <tr style=\"text-align: right;\">\n",
       "      <th></th>\n",
       "      <th>label</th>\n",
       "      <th>pixel1</th>\n",
       "      <th>pixel2</th>\n",
       "      <th>pixel3</th>\n",
       "      <th>pixel4</th>\n",
       "      <th>pixel5</th>\n",
       "      <th>pixel6</th>\n",
       "      <th>pixel7</th>\n",
       "      <th>pixel8</th>\n",
       "      <th>pixel9</th>\n",
       "      <th>...</th>\n",
       "      <th>pixel775</th>\n",
       "      <th>pixel776</th>\n",
       "      <th>pixel777</th>\n",
       "      <th>pixel778</th>\n",
       "      <th>pixel779</th>\n",
       "      <th>pixel780</th>\n",
       "      <th>pixel781</th>\n",
       "      <th>pixel782</th>\n",
       "      <th>pixel783</th>\n",
       "      <th>pixel784</th>\n",
       "    </tr>\n",
       "  </thead>\n",
       "  <tbody>\n",
       "    <tr>\n",
       "      <th>0</th>\n",
       "      <td>3</td>\n",
       "      <td>107</td>\n",
       "      <td>118</td>\n",
       "      <td>127</td>\n",
       "      <td>134</td>\n",
       "      <td>139</td>\n",
       "      <td>143</td>\n",
       "      <td>146</td>\n",
       "      <td>150</td>\n",
       "      <td>153</td>\n",
       "      <td>...</td>\n",
       "      <td>207</td>\n",
       "      <td>207</td>\n",
       "      <td>207</td>\n",
       "      <td>207</td>\n",
       "      <td>206</td>\n",
       "      <td>206</td>\n",
       "      <td>206</td>\n",
       "      <td>204</td>\n",
       "      <td>203</td>\n",
       "      <td>202</td>\n",
       "    </tr>\n",
       "    <tr>\n",
       "      <th>1</th>\n",
       "      <td>6</td>\n",
       "      <td>155</td>\n",
       "      <td>157</td>\n",
       "      <td>156</td>\n",
       "      <td>156</td>\n",
       "      <td>156</td>\n",
       "      <td>157</td>\n",
       "      <td>156</td>\n",
       "      <td>158</td>\n",
       "      <td>158</td>\n",
       "      <td>...</td>\n",
       "      <td>69</td>\n",
       "      <td>149</td>\n",
       "      <td>128</td>\n",
       "      <td>87</td>\n",
       "      <td>94</td>\n",
       "      <td>163</td>\n",
       "      <td>175</td>\n",
       "      <td>103</td>\n",
       "      <td>135</td>\n",
       "      <td>149</td>\n",
       "    </tr>\n",
       "  </tbody>\n",
       "</table>\n",
       "<p>2 rows × 785 columns</p>\n",
       "</div>"
      ],
      "text/plain": [
       "   label  pixel1  pixel2  pixel3  pixel4  pixel5  pixel6  pixel7  pixel8  \\\n",
       "0      3     107     118     127     134     139     143     146     150   \n",
       "1      6     155     157     156     156     156     157     156     158   \n",
       "\n",
       "   pixel9  ...  pixel775  pixel776  pixel777  pixel778  pixel779  pixel780  \\\n",
       "0     153  ...       207       207       207       207       206       206   \n",
       "1     158  ...        69       149       128        87        94       163   \n",
       "\n",
       "   pixel781  pixel782  pixel783  pixel784  \n",
       "0       206       204       203       202  \n",
       "1       175       103       135       149  \n",
       "\n",
       "[2 rows x 785 columns]"
      ]
     },
     "execution_count": 4,
     "metadata": {},
     "output_type": "execute_result"
    }
   ],
   "source": [
    "mnist_train.head(2)"
   ]
  },
  {
   "cell_type": "code",
   "execution_count": 5,
   "metadata": {},
   "outputs": [
    {
     "data": {
      "text/plain": [
       "24"
      ]
     },
     "execution_count": 5,
     "metadata": {},
     "output_type": "execute_result"
    }
   ],
   "source": [
    "#количество лейблов в трейне и тесте\n",
    "mnist_train['label'].nunique()"
   ]
  },
  {
   "cell_type": "code",
   "execution_count": 6,
   "metadata": {},
   "outputs": [
    {
     "data": {
      "text/plain": [
       "24"
      ]
     },
     "execution_count": 6,
     "metadata": {},
     "output_type": "execute_result"
    }
   ],
   "source": [
    "mnist_test['label'].nunique()"
   ]
  },
  {
   "cell_type": "code",
   "execution_count": 7,
   "metadata": {},
   "outputs": [
    {
     "data": {
      "text/plain": [
       "array([ 3,  6,  2, 13, 16,  8, 22, 18, 10, 20, 17, 19, 21, 23, 24,  1, 12,\n",
       "       11, 15,  4,  0,  5,  7, 14], dtype=int64)"
      ]
     },
     "execution_count": 7,
     "metadata": {},
     "output_type": "execute_result"
    }
   ],
   "source": [
    "mnist_train['label'].unique()"
   ]
  },
  {
   "cell_type": "code",
   "execution_count": 8,
   "metadata": {},
   "outputs": [
    {
     "name": "stdout",
     "output_type": "stream",
     "text": [
      "False False\n"
     ]
    }
   ],
   "source": [
    "#Проверим, есть ли пропуски\n",
    "print(mnist_train.isna().any().any(), mnist_test.isna().any().any())"
   ]
  },
  {
   "cell_type": "code",
   "execution_count": 9,
   "metadata": {},
   "outputs": [],
   "source": [
    "mnist_train_data = mnist_train.loc[:, \"pixel1\":]\n",
    "mnist_train_label = mnist_train.loc[:, \"label\"]\n",
    "\n",
    "mnist_test_data = mnist_test.loc[:, \"pixel1\":]\n",
    "mnist_test_label = mnist_test.loc[:, \"label\"]"
   ]
  },
  {
   "cell_type": "code",
   "execution_count": 10,
   "metadata": {},
   "outputs": [],
   "source": [
    "# Data Normalization\n",
    "mnist_train_data = mnist_train_data/255.0\n",
    "mnist_test_data = mnist_test_data/255.0"
   ]
  },
  {
   "cell_type": "code",
   "execution_count": 11,
   "metadata": {},
   "outputs": [
    {
     "name": "stdout",
     "output_type": "stream",
     "text": [
      "IMAGE LABEL: 22\n"
     ]
    },
    {
     "data": {
      "image/png": "[encoded data removed]",
      "text/plain": [
       "<Figure size 432x288 with 2 Axes>"
      ]
     },
     "metadata": {
      "needs_background": "light"
     },
     "output_type": "display_data"
    }
   ],
   "source": [
    "# пример изображения\n",
    "data_array = np.array(mnist_train_data.loc[13, :])\n",
    "shaped_data = np.reshape(data_array, (28, 28))\n",
    "sign_img = plt.imshow(shaped_data, cmap=plt.cm.binary)\n",
    "plt.colorbar(sign_img)\n",
    "print(\"IMAGE LABEL: {}\".format(mnist_train.loc[13, \"label\"]))\n",
    "plt.show()"
   ]
  },
  {
   "cell_type": "markdown",
   "metadata": {},
   "source": [
    "# 2. Подготовка данных"
   ]
  },
  {
   "cell_type": "code",
   "execution_count": 12,
   "metadata": {},
   "outputs": [],
   "source": [
    "test_data_raw = pd.read_csv('./sign-language-mnist/data/sign_mnist_test.csv')\n",
    "data_raw = pd.read_csv('./sign-language-mnist/data/sign_mnist_train.csv')"
   ]
  },
  {
   "cell_type": "code",
   "execution_count": 13,
   "metadata": {},
   "outputs": [],
   "source": [
    "labels = data_raw['label']\n",
    "data_raw.drop('label', axis=1, inplace=True)\n",
    "labels_test = test_data_raw['label']\n",
    "test_data_raw.drop('label', axis=1, inplace=True)\n",
    "\n",
    "data = data_raw.values\n",
    "labels = labels.values\n",
    "test_data = test_data_raw.values\n",
    "labels_test = labels_test.values"
   ]
  },
  {
   "cell_type": "code",
   "execution_count": 14,
   "metadata": {},
   "outputs": [],
   "source": [
    "def reshape_to_2d(data, dim):\n",
    "    reshaped = []\n",
    "    for i in data:\n",
    "        reshaped.append(i.reshape(1, dim, dim))\n",
    "\n",
    "    return np.array(reshaped)"
   ]
  },
  {
   "cell_type": "code",
   "execution_count": 15,
   "metadata": {},
   "outputs": [],
   "source": [
    "data = reshape_to_2d(data, 28)\n",
    "\n",
    "x = torch.FloatTensor(data)\n",
    "y = torch.LongTensor(labels.tolist())\n",
    "\n",
    "test_labels = torch.LongTensor(labels_test.tolist())\n",
    "\n",
    "test_data_formated = reshape_to_2d(test_data, 28)\n",
    "test_data_formated = torch.FloatTensor(test_data_formated)"
   ]
  },
  {
   "cell_type": "markdown",
   "metadata": {},
   "source": [
    "# 3. Модель для распознавания жестов"
   ]
  },
  {
   "cell_type": "code",
   "execution_count": 27,
   "metadata": {},
   "outputs": [],
   "source": [
    "epochs = 50\n",
    "batch_size = 100\n",
    "learning_rate = 0.001"
   ]
  },
  {
   "cell_type": "code",
   "execution_count": 28,
   "metadata": {},
   "outputs": [],
   "source": [
    "class Network(nn.Module): \n",
    "    \n",
    "    def __init__(self):\n",
    "        super(Network, self).__init__()\n",
    "        self.conv1 = nn.Conv2d(1, 10, 3)\n",
    "        self.pool1 = nn.MaxPool2d(2)\n",
    "        \n",
    "        self.conv2 = nn.Conv2d(10, 20, 3)\n",
    "        self.pool2 = nn.MaxPool2d(2)\n",
    "        \n",
    "        self.conv3 = nn.Conv2d(20, 30, 3) \n",
    "        self.dropout1 = nn.Dropout2d()\n",
    "        \n",
    "        self.fc3 = nn.Linear(30 * 3 * 3, 270) \n",
    "        self.fc4 = nn.Linear(270, 26) \n",
    "        \n",
    "        self.softmax = nn.LogSoftmax(dim=1)\n",
    "    \n",
    "    \n",
    "    def forward(self, x):\n",
    "        x = self.conv1(x)\n",
    "        x = F.relu(x)\n",
    "        x = self.pool1(x)\n",
    "        \n",
    "        x = self.conv2(x)\n",
    "        x = F.relu(x)\n",
    "        x = self.pool2(x)\n",
    "        \n",
    "        x = self.conv3(x)\n",
    "        x = F.relu(x)\n",
    "        x = self.dropout1(x)\n",
    "                \n",
    "        x = x.view(-1, 30 * 3 * 3) \n",
    "        x = F.relu(self.fc3(x))\n",
    "        x = F.relu(self.fc4(x))\n",
    "        \n",
    "        return self.softmax(x)\n",
    "    \n",
    "    \n",
    "    def test(self, predictions, labels):\n",
    "        \n",
    "        self.eval()\n",
    "        correct = 0\n",
    "        for p, l in zip(predictions, labels):\n",
    "            if p == l:\n",
    "                correct += 1\n",
    "        \n",
    "        acc = correct / len(predictions)\n",
    "        print(\"Correct predictions: %5d / %5d (%5f)\" % (correct, len(predictions), acc))\n",
    "        \n",
    "    \n",
    "    def evaluate(self, predictions, labels):\n",
    "                \n",
    "        correct = 0\n",
    "        for p, l in zip(predictions, labels):\n",
    "            if p == l:\n",
    "                correct += 1\n",
    "        \n",
    "        acc = correct / len(predictions)\n",
    "        return(acc)"
   ]
  },
  {
   "cell_type": "code",
   "execution_count": 29,
   "metadata": {},
   "outputs": [
    {
     "name": "stdout",
     "output_type": "stream",
     "text": [
      "Network(\n",
      "  (conv1): Conv2d(1, 10, kernel_size=(3, 3), stride=(1, 1))\n",
      "  (pool1): MaxPool2d(kernel_size=2, stride=2, padding=0, dilation=1, ceil_mode=False)\n",
      "  (conv2): Conv2d(10, 20, kernel_size=(3, 3), stride=(1, 1))\n",
      "  (pool2): MaxPool2d(kernel_size=2, stride=2, padding=0, dilation=1, ceil_mode=False)\n",
      "  (conv3): Conv2d(20, 30, kernel_size=(3, 3), stride=(1, 1))\n",
      "  (dropout1): Dropout2d(p=0.5, inplace=False)\n",
      "  (fc3): Linear(in_features=270, out_features=270, bias=True)\n",
      "  (fc4): Linear(in_features=270, out_features=26, bias=True)\n",
      "  (softmax): LogSoftmax(dim=1)\n",
      ")\n"
     ]
    }
   ],
   "source": [
    "net = Network()\n",
    "print(net)"
   ]
  },
  {
   "cell_type": "code",
   "execution_count": 30,
   "metadata": {},
   "outputs": [],
   "source": [
    "optimizer = optim.SGD(net.parameters(), learning_rate, momentum=0.7)\n",
    "loss_func = nn.CrossEntropyLoss()"
   ]
  },
  {
   "cell_type": "code",
   "execution_count": 31,
   "metadata": {},
   "outputs": [
    {
     "name": "stdout",
     "output_type": "stream",
     "text": [
      "Epoch: 1 - Loss: 2.889609\n",
      "Epoch: 2 - Loss: 2.074055\n",
      "Epoch: 3 - Loss: 1.735752\n",
      "Epoch: 4 - Loss: 1.289359\n",
      "Epoch: 5 - Loss: 0.994310\n",
      "Epoch: 6 - Loss: 0.936245\n",
      "Epoch: 7 - Loss: 0.706467\n",
      "Epoch: 8 - Loss: 0.364471\n",
      "Epoch: 9 - Loss: 0.510432\n",
      "Epoch: 10 - Loss: 0.284775\n",
      "Epoch: 11 - Loss: 0.273558\n",
      "Epoch: 12 - Loss: 0.166152\n",
      "Epoch: 13 - Loss: 0.365644\n",
      "Epoch: 14 - Loss: 0.222069\n",
      "Epoch: 15 - Loss: 0.321834\n",
      "Epoch: 16 - Loss: 0.106737\n",
      "Epoch: 17 - Loss: 0.141404\n",
      "Epoch: 18 - Loss: 0.113599\n",
      "Epoch: 19 - Loss: 0.142250\n",
      "Epoch: 20 - Loss: 0.161216\n",
      "Epoch: 21 - Loss: 0.136303\n",
      "Epoch: 22 - Loss: 0.178103\n",
      "Epoch: 23 - Loss: 0.216880\n",
      "Epoch: 24 - Loss: 0.216781\n",
      "Epoch: 25 - Loss: 0.179307\n",
      "Epoch: 26 - Loss: 0.043556\n",
      "Epoch: 27 - Loss: 0.120365\n",
      "Epoch: 28 - Loss: 0.038613\n",
      "Epoch: 29 - Loss: 0.214100\n",
      "Epoch: 30 - Loss: 0.070138\n",
      "Epoch: 31 - Loss: 0.118903\n",
      "Epoch: 32 - Loss: 0.105135\n",
      "Epoch: 33 - Loss: 0.052352\n",
      "Epoch: 34 - Loss: 0.151241\n",
      "Epoch: 35 - Loss: 0.020102\n",
      "Epoch: 36 - Loss: 0.009016\n",
      "Epoch: 37 - Loss: 0.020125\n",
      "Epoch: 38 - Loss: 0.023323\n",
      "Epoch: 39 - Loss: 0.049601\n",
      "Epoch: 40 - Loss: 0.015572\n",
      "Epoch: 41 - Loss: 0.159531\n",
      "Epoch: 42 - Loss: 0.092841\n",
      "Epoch: 43 - Loss: 0.053910\n",
      "Epoch: 44 - Loss: 0.020756\n",
      "Epoch: 45 - Loss: 0.205795\n",
      "Epoch: 46 - Loss: 0.029925\n",
      "Epoch: 47 - Loss: 0.026789\n",
      "Epoch: 48 - Loss: 0.047026\n",
      "Epoch: 49 - Loss: 0.003596\n",
      "Epoch: 50 - Loss: 0.050555\n"
     ]
    }
   ],
   "source": [
    "loss_log = []\n",
    "acc_log = []\n",
    "\n",
    "for e in range(epochs):\n",
    "    for i in range(0, x.shape[0], batch_size):\n",
    "        x_mini = x[i:i + batch_size] \n",
    "        y_mini = y[i:i + batch_size] \n",
    "        \n",
    "        optimizer.zero_grad()\n",
    "        net_out = net(Variable(x_mini))\n",
    "        \n",
    "        loss = loss_func(net_out, Variable(y_mini))\n",
    "        loss.backward()\n",
    "        optimizer.step()\n",
    "        \n",
    "        if i % 1000 == 0:\n",
    "            #pred = net(Variable(test_data_formated))\n",
    "            loss_log.append(loss.item())\n",
    "            acc_log.append(net.evaluate(torch.max(net(Variable(test_data_formated[:500])).data, 1)[1], \n",
    "                                        test_labels[:500]))\n",
    "        \n",
    "    print('Epoch: {} - Loss: {:.6f}'.format(e + 1, loss.item()))"
   ]
  },
  {
   "cell_type": "code",
   "execution_count": 32,
   "metadata": {},
   "outputs": [
    {
     "data": {
      "text/plain": [
       "[<matplotlib.lines.Line2D at 0x1449d83f610>]"
      ]
     },
     "execution_count": 32,
     "metadata": {},
     "output_type": "execute_result"
    },
    {
     "data": {
      "image/png": "[encoded data removed]",
      "text/plain": [
       "<Figure size 720x576 with 1 Axes>"
      ]
     },
     "metadata": {
      "needs_background": "light"
     },
     "output_type": "display_data"
    }
   ],
   "source": [
    "#Построим график loss function(синий график) и accuracy(оранжевый)\n",
    "import matplotlib.pyplot as plt\n",
    "\n",
    "\n",
    "plt.figure(figsize=(10,8))\n",
    "plt.plot(loss_log[2:])\n",
    "plt.plot(acc_log)\n",
    "plt.plot(np.ones(len(acc_log)), linestyle='dashed')"
   ]
  },
  {
   "cell_type": "code",
   "execution_count": 33,
   "metadata": {},
   "outputs": [],
   "source": [
    "alph = 'ABCDEFGHIJKLMNOPQRSTUVWXYZ'"
   ]
  },
  {
   "cell_type": "code",
   "execution_count": 34,
   "metadata": {},
   "outputs": [
    {
     "name": "stdout",
     "output_type": "stream",
     "text": [
      "Prediction: H\n",
      "Actual Label: H\n",
      "Prediction: I\n",
      "Actual Label: I\n",
      "Prediction: I\n",
      "Actual Label: I\n",
      "Prediction: V\n",
      "Actual Label: V\n"
     ]
    },
    {
     "data": {
      "image/png": "[encoded data removed]",
      "text/plain": [
       "<Figure size 720x576 with 8 Axes>"
      ]
     },
     "metadata": {
      "needs_background": "light"
     },
     "output_type": "display_data"
    }
   ],
   "source": [
    "plt.figure(figsize=(10, 8))\n",
    "\n",
    "sample = 30\n",
    "pixels = test_data[sample].reshape(28, 28)\n",
    "plt.subplot(221)\n",
    "sns.heatmap(data=pixels)\n",
    "lab = labels_test[sample]\n",
    "test_sample = torch.FloatTensor([test_data[sample].reshape(1, 28, 28).tolist()])\n",
    "test_var_sample = Variable(test_sample)\n",
    "net_out_sample = net(test_var_sample)\n",
    "\n",
    "print(\"Prediction: {}\".format(alph[torch.max(net_out_sample.data, 1)[1].numpy()[0]]))\n",
    "print(\"Actual Label: {}\".format(alph[lab]))\n",
    "\n",
    "sample = 42\n",
    "pixels = test_data[sample].reshape(28, 28)\n",
    "plt.subplot(222)\n",
    "sns.heatmap(data=pixels)\n",
    "lab = labels_test[sample]\n",
    "test_sample = torch.FloatTensor([test_data[sample].reshape(1, 28, 28).tolist()])\n",
    "test_var_sample = Variable(test_sample)\n",
    "net_out_sample = net(test_var_sample)\n",
    "\n",
    "print(\"Prediction: {}\".format(alph[torch.max(net_out_sample.data, 1)[1].numpy()[0]]))\n",
    "print(\"Actual Label: {}\".format(alph[lab]))\n",
    "\n",
    "sample = 100\n",
    "pixels = test_data[sample].reshape(28, 28)\n",
    "plt.subplot(223)\n",
    "sns.heatmap(data=pixels)\n",
    "lab = labels_test[sample]\n",
    "test_sample = torch.FloatTensor([test_data[sample].reshape(1, 28, 28).tolist()])\n",
    "test_var_sample = Variable(test_sample)\n",
    "net_out_sample = net(test_var_sample)\n",
    "\n",
    "print(\"Prediction: {}\".format(alph[torch.max(net_out_sample.data, 1)[1].numpy()[0]]))\n",
    "print(\"Actual Label: {}\".format(alph[lab]))\n",
    "\n",
    "sample = 22\n",
    "pixels = test_data[sample].reshape(28, 28)\n",
    "plt.subplot(224)\n",
    "sns.heatmap(data=pixels)\n",
    "lab = labels_test[sample]\n",
    "test_sample = torch.FloatTensor([test_data[sample].reshape(1, 28, 28).tolist()])\n",
    "test_var_sample = Variable(test_sample)\n",
    "net_out_sample = net(test_var_sample)\n",
    "\n",
    "print(\"Prediction: {}\".format(alph[torch.max(net_out_sample.data, 1)[1].numpy()[0]]))\n",
    "print(\"Actual Label: {}\".format(alph[lab]))"
   ]
  },
  {
   "cell_type": "code",
   "execution_count": 35,
   "metadata": {},
   "outputs": [
    {
     "name": "stdout",
     "output_type": "stream",
     "text": [
      "Correct predictions:  6026 /  7172 (0.840212)\n"
     ]
    }
   ],
   "source": [
    "# посмотрим количество правильно классифицированных картинок\n",
    "predictions = net(Variable(test_data_formated))\n",
    "net.test(torch.max(predictions.data, 1)[1], test_labels)"
   ]
  },
  {
   "cell_type": "code",
   "execution_count": 36,
   "metadata": {},
   "outputs": [],
   "source": [
    "#сохраним модель\n",
    "torch.save(net.state_dict(), './model_sign.pth')"
   ]
  },
  {
   "cell_type": "code",
   "execution_count": 37,
   "metadata": {},
   "outputs": [
    {
     "data": {
      "text/plain": [
       "Network(\n",
       "  (conv1): Conv2d(1, 10, kernel_size=(3, 3), stride=(1, 1))\n",
       "  (pool1): MaxPool2d(kernel_size=2, stride=2, padding=0, dilation=1, ceil_mode=False)\n",
       "  (conv2): Conv2d(10, 20, kernel_size=(3, 3), stride=(1, 1))\n",
       "  (pool2): MaxPool2d(kernel_size=2, stride=2, padding=0, dilation=1, ceil_mode=False)\n",
       "  (conv3): Conv2d(20, 30, kernel_size=(3, 3), stride=(1, 1))\n",
       "  (dropout1): Dropout2d(p=0.5, inplace=False)\n",
       "  (fc3): Linear(in_features=270, out_features=270, bias=True)\n",
       "  (fc4): Linear(in_features=270, out_features=26, bias=True)\n",
       "  (softmax): LogSoftmax(dim=1)\n",
       ")"
      ]
     },
     "execution_count": 37,
     "metadata": {},
     "output_type": "execute_result"
    }
   ],
   "source": [
    "#загрузим модель\n",
    "net = Network()\n",
    "net.load_state_dict(torch.load('./model_sign.pth'))\n",
    "net.eval()"
   ]
  },
  {
   "cell_type": "markdown",
   "metadata": {},
   "source": [
    "# 4. Прототип приложения для определения жестов человека перед веб-камерой"
   ]
  },
  {
   "cell_type": "code",
   "execution_count": 38,
   "metadata": {},
   "outputs": [],
   "source": [
    "index_to_letter = 'ABCDEFGHIJKLMNOPQRSTUVWXYZ'"
   ]
  },
  {
   "cell_type": "code",
   "execution_count": 58,
   "metadata": {},
   "outputs": [],
   "source": [
    "# Класс детектирования и обработки лица с веб-камеры \n",
    "class FaceDetector(object):\n",
    "\n",
    "    def __init__(self, mtcnn, net,channels=1):\n",
    "        # Создаем объект для считывания потока с веб-камеры или видео\n",
    "        self.cap = cv2.VideoCapture('./IMG_3129.MOV') \n",
    "        self.mtcnn = mtcnn\n",
    "        self.device = torch.device('cuda:0' if torch.cuda.is_available() else 'cpu')\n",
    "        self.emodel = net\n",
    "        self.channels = channels\n",
    "\n",
    "    # Функция рисования найденных параметров на кадре\n",
    "    def _draw(self, frame, boxes, probs):\n",
    "        try:\n",
    "            for box, prob in zip(boxes, probs):\n",
    "                # Рисуем обрамляющий прямоугольник лица на кадре\n",
    "                cv2.rectangle(frame, (int(box[0]), int(box[1])), (int(box[2]), int(box[3])), (0, 0, 255), thickness=2)\n",
    "\n",
    "        except Exception as e:\n",
    "            print('Something wrong im draw function!')\n",
    "            print(f'error : {e}')\n",
    "        return frame\n",
    "    \n",
    "    # Функция для вырезания лиц с кадра\n",
    "    @staticmethod\n",
    "    def crop_faces(frame, boxes):\n",
    "        faces = []\n",
    "        for i, box in enumerate(boxes):\n",
    "            faces.append(frame[int(box[1]-40):int(box[3]+40), \n",
    "                int(box[0]-40):int(box[2]+40)])\n",
    "        return faces\n",
    "    # Функция для вырезания жеста с кадра\n",
    "    @staticmethod\n",
    "    def center_crop(frame):\n",
    "        h, w, _ = frame.shape\n",
    "        start = abs(h - w) // 2\n",
    "        if h > w:\n",
    "            return frame[start: start + w]\n",
    "        return frame[:, start: start + h]\n",
    "    \n",
    "       \n",
    "    # Функция в которой будет происходить процесс считывания и обработки каждого кадра\n",
    "    def run(self):              \n",
    "        # Заходим в бесконечный цикл\n",
    "        continue_cycle = True\n",
    "        while continue_cycle:\n",
    "            # Считываем каждый новый кадр - frame\n",
    "            # ret - логическая переменая. Смысл - считали ли мы кадр с потока или нет\n",
    "            ret, frame = self.cap.read()\n",
    "            try:\n",
    "                # детектируем расположение лица на кадре, вероятности на сколько это лицо\n",
    "                \n",
    "                boxes, probs = self.mtcnn.detect(frame, landmarks=False)\n",
    "                \n",
    "                \n",
    "                self._draw(frame, boxes, probs)\n",
    "                # Меняем значение переменной продолжение цикла - нет, так как лицо мы нашли и дальше будет распознавание жестов\n",
    "                continue_cycle = False\n",
    "\n",
    "            except Exception as e:\n",
    "                print('Something wrong im main cycle!')\n",
    "                print(f'error : {e}')\n",
    "\n",
    "            # Показываем кадр в окне, и назвываем его(окно) - 'Face Detection'\n",
    "            cv2.imshow('Face Detection', frame)\n",
    "            \n",
    "            \n",
    "            # Функция, которая проверяет нажатие на клавишу 'q'\n",
    "            # Если нажатие произошло - выход из цикла. Конец работы приложения\n",
    "            if cv2.waitKey(1) & 0xFF == ord('q'):\n",
    "                break\n",
    "        l = ' '\n",
    "        while True:\n",
    "            \n",
    "            # Считываем каждый новый кадр - frame\n",
    "            # ret - логическая переменая. Смысл - считали ли мы кадр с потока или нет\n",
    "            ret, frame = self.cap.read()\n",
    "            if ret == False:\n",
    "                break\n",
    "            try:\n",
    "                # Capture frame-by-frame\n",
    "                frame = self.center_crop(frame)\n",
    "                frame = cv2.cvtColor(frame, cv2.COLOR_RGB2GRAY)\n",
    "                x = cv2.resize(frame, (28, 28))\n",
    "                x = torch.FloatTensor(x.reshape(1, 1, 28, 28).astype(np.float32))\n",
    "                y = self.emodel(x)\n",
    "                index = torch.max(y.data, 1)[1].numpy()[0]\n",
    "                letter = index_to_letter[int(index)]\n",
    "                if l[-1]!=letter:\n",
    "                    l+=letter\n",
    "                #cv2.putText(frame, letter, (100, 100), cv2.FONT_HERSHEY_SIMPLEX, 2.0, (0, 255, 0), thickness=2)\n",
    "                #cv2.imshow(\"Sign Language Translator\", frame)\n",
    "\n",
    "            except Exception as e:\n",
    "                print('Something wrong im main cycle!')\n",
    "                print(f'error : {e}')\n",
    "            \n",
    "            cv2.putText(frame, letter, (100, 100), cv2.FONT_HERSHEY_SIMPLEX, 2.0, (0, 255, 0), thickness=2)\n",
    "            cv2.imshow(\"Sign Language Translator\", frame)\n",
    "            \n",
    "            if cv2.waitKey(1) & 0xFF == ord('q'):\n",
    "                break\n",
    "        \n",
    "                \n",
    "\n",
    "                \n",
    "        # Очищаем все объекты opencv, что мы создали\n",
    "        self.cap.release()\n",
    "        cv2.destroyAllWindows()\n",
    "        return l\n",
    "    "
   ]
  },
  {
   "cell_type": "code",
   "execution_count": 59,
   "metadata": {},
   "outputs": [],
   "source": [
    "# Загружаем мтцнн\n",
    "mtcnn = MTCNN()\n",
    "\n",
    "# Создаем объект нашего класса приложения\n",
    "fcd = FaceDetector(mtcnn, net)\n",
    "# Запускаем\n",
    "result = fcd.run()"
   ]
  },
  {
   "cell_type": "code",
   "execution_count": 60,
   "metadata": {},
   "outputs": [
    {
     "data": {
      "text/plain": [
       "' BRQSPXFXLXIHIMAMNMSMNYANYNYAYANANAYAYAYANANBTGLKGTGTMNMNMTMNTMGTGTMTGTMTGTGMGTMGTKTHTHYHYTHGMYLYPYPLPLILIXIHIHLPXPYLYHYHYLYFTFTCTHTHTATIAITWTIHIAHTITITMNMTYTITITITXITXT'"
      ]
     },
     "execution_count": 60,
     "metadata": {},
     "output_type": "execute_result"
    }
   ],
   "source": [
    "# по результатам работы приложения имеем строку с определнными буквами\n",
    "result"
   ]
  },
  {
   "cell_type": "code",
   "execution_count": null,
   "metadata": {},
   "outputs": [],
   "source": []
  }
 ],
 "metadata": {
  "kernelspec": {
   "display_name": "Python 3",
   "language": "python",
   "name": "python3"
  },
  "language_info": {
   "codemirror_mode": {
    "name": "ipython",
    "version": 3
   },
   "file_extension": ".py",
   "mimetype": "text/x-python",
   "name": "python",
   "nbconvert_exporter": "python",
   "pygments_lexer": "ipython3",
   "version": "3.9.5"
  }
 },
 "nbformat": 4,
 "nbformat_minor": 2
}
